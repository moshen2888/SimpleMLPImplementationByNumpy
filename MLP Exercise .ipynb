{
 "cells": [
  {
   "cell_type": "markdown",
   "metadata": {},
   "source": [
    "### Multi-layer Perceptron Exercise\n",
    "#### In this exercise, we will implement the multi-perceptron algorithm with two hidden layers. \n",
    "#### The implementation of the MLP algorithm will be in the mlp.py file but you will test your implementation \n",
    "#### in this notebook. In this exercise we will use the MNIST dataset that we used for week 2 lab (KNN). "
   ]
  },
  {
   "cell_type": "code",
   "execution_count": 2,
   "metadata": {},
   "outputs": [],
   "source": [
    "# importing the MLP algorithm from mlp.py file \n",
    "# where you will implement the MLP algorithm \n",
    "from mlp import MLP \n",
    "import numpy as np\n",
    "\n",
    "# This is to reload all changed modules every time before executing a new line.\n",
    "# https://stackoverflow.com/questions/5364050/reloading-submodules-in-ipython\n",
    "%load_ext autoreload\n",
    "%autoreload 2"
   ]
  },
  {
   "cell_type": "code",
   "execution_count": 2,
   "metadata": {},
   "outputs": [
    {
     "name": "stdout",
     "output_type": "stream",
     "text": [
      "(50000, 784) (10000, 784) (10000, 784)\n"
     ]
    }
   ],
   "source": [
    "# loading the MNIST datatset\n",
    "import pickle, gzip\n",
    "\n",
    "f = gzip.open('mnist.pkl.gz','rb')\n",
    "tset, vset, teset = pickle.load(f, encoding='latin1')\n",
    "print(tset[0].shape, vset[0].shape, teset[0].shape)\n",
    "f.close()"
   ]
  },
  {
   "cell_type": "code",
   "execution_count": 3,
   "metadata": {},
   "outputs": [
    {
     "data": {
      "text/plain": "<Figure size 432x288 with 10 Axes>",
      "image/png": "[encoded data removed]"
     },
     "metadata": {
      "needs_background": "light"
     },
     "output_type": "display_data"
    }
   ],
   "source": [
    "import matplotlib.pyplot as plt # To install: pip install matplotlib\n",
    "\n",
    "# visualise some examples from the dataset \n",
    "fig, ax = plt.subplots(2,5)\n",
    "for i, ax in enumerate(ax.flatten()):\n",
    "    im_idx = np.argwhere(teset[1] == i)[0]\n",
    "    plottable_image = np.reshape(teset[0][im_idx], (28, 28))\n",
    "    ax.imshow(plottable_image, cmap='gray_r')"
   ]
  },
  {
   "cell_type": "code",
   "execution_count": 14,
   "metadata": {},
   "outputs": [],
   "source": [
    "# we will use only 9000 images for training and 1000 for testing \n",
    "\n",
    "# Just use the first 9000 images for training \n",
    "tread = 9000\n",
    "train_in = tset[0][:tread,:]\n",
    "\n",
    "# This is a little bit of work -- 1 of N encoding\n",
    "# Make sure you understand how it does it\n",
    "train_tgt = np.zeros((tread,10))\n",
    "for i in range(tread):\n",
    "    train_tgt[i,tset[1][i]] = 1\n",
    "\n",
    "# and use 1000 images for testing\n",
    "teread = 1000\n",
    "test_in = teset[0][:teread,:]\n",
    "test_tgt = np.zeros((teread,10))\n",
    "for i in range(teread):\n",
    "    test_tgt[i,teset[1][i]] = 1"
   ]
  },
  {
   "cell_type": "markdown",
   "metadata": {},
   "source": [
    "#### Initialise the MLP classifier "
   ]
  },
  {
   "cell_type": "code",
   "execution_count": 12,
   "metadata": {},
   "outputs": [],
   "source": [
    "# We choose the first and second hidden layers to have 5 neurons each.\n",
    "sizes = [784,5,5,10] # 784 is the number of pixels of the images and 10 is the number of classes \n",
    "classifier = MLP(sizes)"
   ]
  },
  {
   "cell_type": "code",
   "execution_count": 1,
   "metadata": {},
   "outputs": [
    {
     "ename": "NameError",
     "evalue": "name 'classifier' is not defined",
     "output_type": "error",
     "traceback": [
      "\u001B[1;31m---------------------------------------------------------------------------\u001B[0m",
      "\u001B[1;31mNameError\u001B[0m                                 Traceback (most recent call last)",
      "\u001B[1;32m<ipython-input-1-971c91815b18>\u001B[0m in \u001B[0;36m<module>\u001B[1;34m\u001B[0m\n\u001B[0;32m      2\u001B[0m \u001B[1;31m# test your implementation here\u001B[0m\u001B[1;33m\u001B[0m\u001B[1;33m\u001B[0m\u001B[1;33m\u001B[0m\u001B[0m\n\u001B[0;32m      3\u001B[0m \u001B[1;31m# for now, let's keep the learning rate and the number of iterations unchanged\u001B[0m\u001B[1;33m\u001B[0m\u001B[1;33m\u001B[0m\u001B[1;33m\u001B[0m\u001B[0m\n\u001B[1;32m----> 4\u001B[1;33m \u001B[0mclassifier\u001B[0m\u001B[1;33m.\u001B[0m\u001B[0mtrain\u001B[0m\u001B[1;33m(\u001B[0m\u001B[0mtrain_in\u001B[0m\u001B[1;33m,\u001B[0m \u001B[0mtrain_tgt\u001B[0m\u001B[1;33m,\u001B[0m \u001B[1;36m0.1\u001B[0m\u001B[1;33m,\u001B[0m \u001B[1;36m1000\u001B[0m\u001B[1;33m)\u001B[0m\u001B[1;33m\u001B[0m\u001B[1;33m\u001B[0m\u001B[0m\n\u001B[0m\u001B[0;32m      5\u001B[0m \u001B[1;33m\u001B[0m\u001B[0m\n",
      "\u001B[1;31mNameError\u001B[0m: name 'classifier' is not defined"
     ]
    }
   ],
   "source": [
    "# TODO: open the mlp.py file and implement self.forwardPass and self.train methods\n",
    "# test your implementation here \n",
    "# for now, let's keep the learning rate and the number of iterations unchanged  \n",
    "classifier.train(train_in, train_tgt, 0.1, 1000)"
   ]
  },
  {
   "cell_type": "code",
   "execution_count": null,
   "metadata": {},
   "outputs": [],
   "source": [
    "# we evaluate our model on the testing set \n",
    "# and show the confusion matrix and the accuracy\n",
    "classifier.evaluate(test_in, test_tgt)"
   ]
  },
  {
   "cell_type": "code",
   "execution_count": null,
   "metadata": {},
   "outputs": [],
   "source": [
    "# you should expect the accuracy to be really low ~ most likely less than %50\n",
    "# I think we can do better by experimenting with different learning rate and \n",
    "# number of neurons in each hidden layer. "
   ]
  },
  {
   "cell_type": "code",
   "execution_count": null,
   "metadata": {},
   "outputs": [],
   "source": [
    "# TODO: modify the network parameters to get the test accuracy above %90 \n",
    "# you can change the learning rate, the number of neurons of each hidden layer\n",
    "# and number of iterations. You can also implement the gradient descent algorithm\n",
    "# with momentum and experiment it with different momentum values. "
   ]
  },
  {
   "cell_type": "code",
   "execution_count": null,
   "metadata": {},
   "outputs": [],
   "source": [
    "best_sizes = [784,30,30,10]\n",
    "best_beta = 5\n",
    "best_momentum = 0.9\n",
    "best_lr = 0.1 # best learning rate\n",
    "best_niterations = 10000\n",
    "best_classifier = MLP(sizes = best_sizes, beta=best_beta, momentum=best_momentum)\n",
    "best_classifier.train(train_in, train_tgt, best_lr, best_niterations)\n",
    "best_classifier.evaluate(test_in, test_tgt)"
   ]
  },
  {
   "cell_type": "code",
   "execution_count": null,
   "metadata": {},
   "outputs": [],
   "source": [
    "# TODO: run the following code to save the best parameters and \n",
    "# the weights of the network that achieves the desired accuracy\n",
    "best_parameters = {\n",
    "    'sizes': best_sizes,\n",
    "    'beta': best_beta,\n",
    "    'momentum': best_momentum,\n",
    "    'lr': best_lr,\n",
    "    'niterations': best_niterations,\n",
    "    'weights_1': best_classifier.weights1,\n",
    "    'weights_2': best_classifier.weights2,\n",
    "    'weights_3': best_classifier.weights3,\n",
    "}\n",
    "\n",
    "with open('best_classifier.pkl', 'wb') as handle:\n",
    "    pickle.dump(best_parameters, handle, protocol=pickle.HIGHEST_PROTOCOL)"
   ]
  }
 ],
 "metadata": {
  "kernelspec": {
   "name": "python3",
   "language": "python",
   "display_name": "Python 3"
  },
  "language_info": {
   "codemirror_mode": {
    "name": "ipython",
    "version": 3
   },
   "file_extension": ".py",
   "mimetype": "text/x-python",
   "name": "python",
   "nbconvert_exporter": "python",
   "pygments_lexer": "ipython3",
   "version": "3.6.12"
  }
 },
 "nbformat": 4,
 "nbformat_minor": 4
}